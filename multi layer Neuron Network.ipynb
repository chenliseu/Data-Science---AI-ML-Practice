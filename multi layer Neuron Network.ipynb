{
 "cells": [
  {
   "cell_type": "markdown",
   "metadata": {},
   "source": [
    "# Two Layer Neuron Network ( 3 input nodes * 4 nodes in hidden laywer * 1 output node)"
   ]
  },
  {
   "cell_type": "code",
   "execution_count": 1,
   "metadata": {},
   "outputs": [],
   "source": [
    "import numpy as np"
   ]
  },
  {
   "cell_type": "code",
   "execution_count": 86,
   "metadata": {},
   "outputs": [
    {
     "data": {
      "text/plain": [
       "array([[0., 0., 1.],\n",
       "       [0., 1., 1.],\n",
       "       [1., 0., 1.],\n",
       "       [0., 1., 0.],\n",
       "       [1., 0., 0.],\n",
       "       [1., 1., 1.],\n",
       "       [0., 0., 0.]])"
      ]
     },
     "execution_count": 86,
     "metadata": {},
     "output_type": "execute_result"
    }
   ],
   "source": [
    "inputs = np.array([[0.0, 0.0, 1.0], [0.0, 1.0, 1.0], [1.0, 0.0, 1.0], [0.0, 1.0, 0.0], [1.0, 0.0, 0.0],\n",
    "                   [1.0, 1.0, 1.0], [0.0, 0.0, 0.0]])\n",
    "inputs"
   ]
  },
  {
   "cell_type": "code",
   "execution_count": 16,
   "metadata": {},
   "outputs": [
    {
     "data": {
      "text/plain": [
       "array([[0],\n",
       "       [1],\n",
       "       [1],\n",
       "       [1],\n",
       "       [1],\n",
       "       [0],\n",
       "       [0]])"
      ]
     },
     "execution_count": 16,
     "metadata": {},
     "output_type": "execute_result"
    }
   ],
   "source": [
    "outputs = np.array([[0, 1, 1, 1, 1, 0, 0]]).T\n",
    "outputs"
   ]
  },
  {
   "cell_type": "code",
   "execution_count": 6,
   "metadata": {},
   "outputs": [],
   "source": [
    "layer1_nodes = 3\n",
    "layer2_nodes = 4\n",
    "layer3_nodes = 1"
   ]
  },
  {
   "cell_type": "code",
   "execution_count": 106,
   "metadata": {},
   "outputs": [
    {
     "data": {
      "text/plain": [
       "array([[0.31789953, 0.95784869, 0.00508716, 0.48461113],\n",
       "       [0.19211304, 0.45136503, 0.59047872, 0.08335211],\n",
       "       [0.18779086, 0.83744721, 0.65599913, 0.55558461]])"
      ]
     },
     "execution_count": 106,
     "metadata": {},
     "output_type": "execute_result"
    }
   ],
   "source": [
    "L1_weights = np.random.random((layer1_nodes,layer2_nodes))\n",
    "L1_weights"
   ]
  },
  {
   "cell_type": "code",
   "execution_count": 107,
   "metadata": {},
   "outputs": [
    {
     "data": {
      "text/plain": [
       "array([[0.53911787],\n",
       "       [0.91258789],\n",
       "       [0.2410005 ],\n",
       "       [0.98322771]])"
      ]
     },
     "execution_count": 107,
     "metadata": {},
     "output_type": "execute_result"
    }
   ],
   "source": [
    "L2_weights = np.random.random((layer2_nodes,layer3_nodes))\n",
    "L2_weights"
   ]
  },
  {
   "cell_type": "code",
   "execution_count": 12,
   "metadata": {},
   "outputs": [],
   "source": [
    "#defint learning rate \n",
    "learnin_rate = 0.05"
   ]
  },
  {
   "cell_type": "code",
   "execution_count": 13,
   "metadata": {},
   "outputs": [],
   "source": [
    "#define activation function\n",
    "\n",
    "def sigmiod(x):\n",
    "    return 1 / (1+np.exp(-x))\n",
    "\n",
    "def sigmiod_derivative (x):\n",
    "    return x * ( 1- x )"
   ]
  },
  {
   "cell_type": "code",
   "execution_count": 108,
   "metadata": {},
   "outputs": [],
   "source": [
    "# train the neuron network\n",
    "\n",
    "for iternation in range(10000):\n",
    "    L1_output = sigmiod(np.dot(inputs,L1_weights))\n",
    "    L2_output = sigmiod(np.dot(L1_output,L2_weights))\n",
    "    #L2 learing\n",
    "    L2_error = L2_output - outputs\n",
    "    L2_delta = L2_error * sigmiod_derivative(L2_output)\n",
    "    L2_weights -= learnin_rate * np.dot(L1_output.T,L2_delta)\n",
    "    L2_derivative = np.dot(L2_delta,L2_weights.T)\n",
    "    L1_output -= learnin_rate * L2_derivative\n",
    "    #L1 learing\n",
    "    L1_delta = L2_derivative * sigmiod_derivative(L1_output)\n",
    "    L1_weights -= learnin_rate * np.dot(inputs.T,L1_delta)\n",
    "    L1_derivative = np.dot(L1_delta,L1_weights.T)\n",
    "    inputs -= learnin_rate * L1_derivative"
   ]
  },
  {
   "cell_type": "code",
   "execution_count": 115,
   "metadata": {},
   "outputs": [
    {
     "data": {
      "text/plain": [
       "array([[ 0.80090738,  1.31527868, -1.4445158 ,  1.22029776],\n",
       "       [ 0.61951016,  0.76405729, -0.62478644,  0.7360604 ],\n",
       "       [ 0.51909365,  1.08064125, -0.31113087,  1.06077026]])"
      ]
     },
     "execution_count": 115,
     "metadata": {},
     "output_type": "execute_result"
    }
   ],
   "source": [
    "L1_weights"
   ]
  },
  {
   "cell_type": "code",
   "execution_count": 116,
   "metadata": {},
   "outputs": [
    {
     "data": {
      "text/plain": [
       "array([[ 0.59762827],\n",
       "       [ 2.12387498],\n",
       "       [-4.03814448],\n",
       "       [ 1.90841525]])"
      ]
     },
     "execution_count": 116,
     "metadata": {},
     "output_type": "execute_result"
    }
   ],
   "source": [
    "L2_weights"
   ]
  },
  {
   "cell_type": "code",
   "execution_count": 114,
   "metadata": {},
   "outputs": [
    {
     "data": {
      "image/png": "[encoded data removed]",
      "text/plain": [
       "<Figure size 864x432 with 1 Axes>"
      ]
     },
     "metadata": {
      "needs_background": "light"
     },
     "output_type": "display_data"
    }
   ],
   "source": [
    "x_data = list(range(7))\n",
    "import matplotlib.pyplot as plt\n",
    "plt.figure(figsize=(12,6))\n",
    "plt.scatter(x_data, outputs, c='r',s=200, label='Actual Value')\n",
    "plt.scatter(x_data, L2_output, c='b', s=200,label='Predicted Value')\n",
    "plt.xlabel('input value')\n",
    "plt.ylabel('lable')\n",
    "plt.title('Validation')\n",
    "plt.legend()\n",
    "plt.show()"
   ]
  },
  {
   "cell_type": "code",
   "execution_count": null,
   "metadata": {},
   "outputs": [],
   "source": []
  }
 ],
 "metadata": {
  "kernelspec": {
   "display_name": "Python 3",
   "language": "python",
   "name": "python3"
  },
  "language_info": {
   "codemirror_mode": {
    "name": "ipython",
    "version": 3
   },
   "file_extension": ".py",
   "mimetype": "text/x-python",
   "name": "python",
   "nbconvert_exporter": "python",
   "pygments_lexer": "ipython3",
   "version": "3.7.4"
  }
 },
 "nbformat": 4,
 "nbformat_minor": 2
}
