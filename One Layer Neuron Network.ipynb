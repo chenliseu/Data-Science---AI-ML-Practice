{
 "cells": [
  {
   "cell_type": "markdown",
   "metadata": {},
   "source": [
    "# Simple one layer Neuron Network using sigmoid function"
   ]
  },
  {
   "cell_type": "code",
   "execution_count": 18,
   "metadata": {},
   "outputs": [],
   "source": [
    "import numpy as np\n",
    "import pandas as pd\n",
    "import seaborn as sns"
   ]
  },
  {
   "cell_type": "code",
   "execution_count": 7,
   "metadata": {},
   "outputs": [],
   "source": [
    "# define input and output values\n",
    "\n",
    "inputs = np.array([[0,0,1],[1,1,1],[1,0,1],[0,1,1]])\n",
    "output = np.array([[0,1,1,0]]).T"
   ]
  },
  {
   "cell_type": "code",
   "execution_count": 81,
   "metadata": {},
   "outputs": [
    {
     "name": "stdout",
     "output_type": "stream",
     "text": [
      "[[0.39582361]\n",
      " [0.83426715]\n",
      " [0.13192036]]\n"
     ]
    }
   ],
   "source": [
    "#randomize the weight, bias and learning rate\n",
    "\n",
    "weights = np.random.random((3,1))\n",
    "print(weights)"
   ]
  },
  {
   "cell_type": "code",
   "execution_count": 44,
   "metadata": {},
   "outputs": [
    {
     "name": "stdout",
     "output_type": "stream",
     "text": [
      "[0.10596961]\n"
     ]
    }
   ],
   "source": [
    "#defint learning rate and bias \n",
    "learnin_rate = 0.05\n",
    "bias = np.random.rand(1)\n",
    "print(bias)"
   ]
  },
  {
   "cell_type": "code",
   "execution_count": 4,
   "metadata": {},
   "outputs": [],
   "source": [
    "#define activation function\n",
    "\n",
    "def sigmiod(x):\n",
    "    return 1 / (1+np.exp(-x))\n",
    "\n",
    "def sigmiod_derivative (x):\n",
    "    return x * ( 1- x )"
   ]
  },
  {
   "cell_type": "code",
   "execution_count": 54,
   "metadata": {},
   "outputs": [],
   "source": [
    "# train the neuron network\n",
    "\n",
    "for iternation in range(10000):\n",
    "    model_output = sigmiod(np.dot(inputs, weights)+bias)\n",
    "    error = model_output - output\n",
    "    weights -= learnin_rate * np.dot(inputs.T,error*sigmiod_derivative(model_output))\n",
    "    for i in np.dot(inputs.T,error*sigmiod_derivative(model_output)):\n",
    "        bias -= i\n",
    "    "
   ]
  },
  {
   "cell_type": "code",
   "execution_count": 75,
   "metadata": {},
   "outputs": [
    {
     "data": {
      "text/plain": [
       "array([[ 7.16305172],\n",
       "       [-0.37877637],\n",
       "       [-4.04188279]])"
      ]
     },
     "execution_count": 75,
     "metadata": {},
     "output_type": "execute_result"
    }
   ],
   "source": [
    "weights"
   ]
  },
  {
   "cell_type": "code",
   "execution_count": 37,
   "metadata": {},
   "outputs": [
    {
     "data": {
      "image/png": "[encoded data removed]",
      "text/plain": [
       "<Figure size 648x216 with 1 Axes>"
      ]
     },
     "metadata": {
      "needs_background": "light"
     },
     "output_type": "display_data"
    }
   ],
   "source": [
    "x_data = list(range(4))\n",
    "import matplotlib.pyplot as plt\n",
    "plt.figure(figsize=(9,3))\n",
    "plt.scatter(x_data, output, c='r',s=200, label='Actual Value')\n",
    "plt.scatter(x_data, model_output, c='b', s=200,label='Predicted Value')\n",
    "plt.xlabel('input value')\n",
    "plt.ylabel('lable')\n",
    "plt.title('Validation')\n",
    "plt.legend()\n",
    "plt.show()"
   ]
  },
  {
   "cell_type": "code",
   "execution_count": null,
   "metadata": {},
   "outputs": [],
   "source": []
  }
 ],
 "metadata": {
  "kernelspec": {
   "display_name": "Python 3",
   "language": "python",
   "name": "python3"
  },
  "language_info": {
   "codemirror_mode": {
    "name": "ipython",
    "version": 3
   },
   "file_extension": ".py",
   "mimetype": "text/x-python",
   "name": "python",
   "nbconvert_exporter": "python",
   "pygments_lexer": "ipython3",
   "version": "3.7.4"
  }
 },
 "nbformat": 4,
 "nbformat_minor": 2
}
