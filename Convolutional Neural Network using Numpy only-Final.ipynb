{
 "cells": [
  {
   "cell_type": "code",
   "execution_count": 1,
   "metadata": {},
   "outputs": [],
   "source": [
    "import tensorflow as tf\n",
    "import matplotlib.pyplot as plt\n",
    "import numpy as np"
   ]
  },
  {
   "cell_type": "code",
   "execution_count": 2,
   "metadata": {},
   "outputs": [],
   "source": [
    "(x_train, y_train), (x_test, y_test) = tf.keras.datasets.mnist.load_data()"
   ]
  },
  {
   "cell_type": "code",
   "execution_count": 3,
   "metadata": {},
   "outputs": [
    {
     "data": {
      "text/plain": [
       "<matplotlib.image.AxesImage at 0x14da7b1d0>"
      ]
     },
     "execution_count": 3,
     "metadata": {},
     "output_type": "execute_result"
    },
    {
     "data": {
      "image/png": "[encoded data removed]",
      "text/plain": [
       "<Figure size 432x288 with 1 Axes>"
      ]
     },
     "metadata": {
      "needs_background": "light"
     },
     "output_type": "display_data"
    }
   ],
   "source": [
    "plt.imshow(x_test[0])"
   ]
  },
  {
   "cell_type": "code",
   "execution_count": 4,
   "metadata": {},
   "outputs": [],
   "source": [
    "train_images = x_train[:6000]\n",
    "train_labels = y_train[:6000]"
   ]
  },
  {
   "cell_type": "code",
   "execution_count": 5,
   "metadata": {},
   "outputs": [],
   "source": [
    "test_images = x_test[:6000]\n",
    "test_labels = y_test[:6000]"
   ]
  },
  {
   "cell_type": "code",
   "execution_count": 6,
   "metadata": {},
   "outputs": [],
   "source": [
    "n_filter=8\n",
    "h_filter=3\n",
    "w_filter=3\n",
    "strip=1\n",
    "final_nodes = 10\n",
    "learning_rate = 0.005"
   ]
  },
  {
   "cell_type": "code",
   "execution_count": 7,
   "metadata": {},
   "outputs": [],
   "source": [
    "h_image,w_image=x_train[0].shape\n",
    "h_cov = int(np.floor(h_image - h_filter)/strip+1)\n",
    "w_cov = int(np.floor(w_image - h_filter)/strip+1)\n",
    "h_maxpool = int(h_cov/2)\n",
    "w_maxpool = int(w_cov/2)"
   ]
  },
  {
   "cell_type": "code",
   "execution_count": 8,
   "metadata": {},
   "outputs": [],
   "source": [
    "filters = np.random.randn(n_filter, h_filter, w_filter)\n",
    "filters = filters / 10\n",
    "final_weights = np.random.randn(h_maxpool*w_maxpool*n_filter, final_nodes) / h_maxpool*w_maxpool*n_filter\n",
    "final_weights = final_weights/1000\n",
    "final_biases = np.zeros(final_nodes)"
   ]
  },
  {
   "cell_type": "code",
   "execution_count": 9,
   "metadata": {},
   "outputs": [],
   "source": [
    "def iterate1(initial_image):\n",
    "    for i in range(h_cov):\n",
    "        for j in range(w_cov):\n",
    "            focus_block = initial_image[i:(i + 3), j:(j + 3)]\n",
    "            yield focus_block, i, j\n",
    "            "
   ]
  },
  {
   "cell_type": "code",
   "execution_count": 10,
   "metadata": {},
   "outputs": [],
   "source": [
    "#Initialize the weightes in convulutional layers\n",
    "def Conv_layer_forward (initial_image):\n",
    "    global filters\n",
    "    \n",
    "    output1 = np.zeros((h_cov, w_cov, n_filter))\n",
    "    #forward caculation\n",
    "    for focus_block, i, j in iterate1 (initial_image):\n",
    "        output1[i, j] = np.sum(focus_block * filters, axis=(1, 2))\n",
    "    return output1"
   ]
  },
  {
   "cell_type": "code",
   "execution_count": 11,
   "metadata": {},
   "outputs": [],
   "source": [
    "def Conv_layer_backward (maxpool_resume_derivative,initial_image):\n",
    "    global filters\n",
    "    \n",
    "    filters_derivative = np.zeros(filters.shape)\n",
    "    for focus_block, i, j in iterate1(initial_image):\n",
    "        for f in range(n_filter):\n",
    "            filters_derivative[f] += maxpool_resume_derivative[i, j, f] * focus_block\n",
    "    \n",
    "    \n",
    "    filters -= learning_rate * filters_derivative"
   ]
  },
  {
   "cell_type": "code",
   "execution_count": 12,
   "metadata": {},
   "outputs": [],
   "source": [
    "def iterate2(conv_image):\n",
    "    for i in range(h_maxpool):\n",
    "        for j in range(w_maxpool):\n",
    "            reduced_block = conv_image[(i * 2):(i * 2 + 2), (j * 2):(j * 2 + 2)]\n",
    "            yield reduced_block, i, j"
   ]
  },
  {
   "cell_type": "code",
   "execution_count": 13,
   "metadata": {},
   "outputs": [],
   "source": [
    "#max pool\n",
    "def Maxpool_layer_forward (conv_image):\n",
    "    output2 = np.zeros((h_maxpool,w_maxpool, n_filter))\n",
    "    for reduced_block, i, j in iterate2(conv_image):\n",
    "        output2[i, j] = np.amax(reduced_block, axis=(0, 1))\n",
    "    return output2"
   ]
  },
  {
   "cell_type": "code",
   "execution_count": 14,
   "metadata": {},
   "outputs": [],
   "source": [
    "def Maxpool_layer_backward (maxpool_derivative,conv_output):\n",
    "    maxpool_resume_derivative = np.zeros(conv_output.shape)\n",
    "    for reduced_block, i, j in iterate2(conv_output):\n",
    "        h, w, f = reduced_block.shape\n",
    "        amax = np.amax(reduced_block, axis=(0, 1))\n",
    "        for i2 in range(h):\n",
    "            for j2 in range(w):\n",
    "                for f2 in range(f):\n",
    "                    # If this pixel was the max value, copy the gradient to it.\n",
    "                    if reduced_block[i2, j2, f2] == amax[f2]:\n",
    "                        maxpool_resume_derivative[i + i2, j + j2, f2] = maxpool_derivative[i, j, f2]\n",
    "    return maxpool_resume_derivative\n"
   ]
  },
  {
   "cell_type": "code",
   "execution_count": 15,
   "metadata": {},
   "outputs": [],
   "source": [
    "#softmax on final layer\n",
    "def Softmax_layer_forward (image):\n",
    "    \n",
    "    global final_weights, final_biases\n",
    "    final_input=image.flatten()\n",
    "  #  input_len, nodes = final_weights.shape\n",
    "    totals = np.dot(final_input, final_weights) + final_biases \n",
    "    exp = np.exp(totals)\n",
    "    return exp / np.sum(exp, axis=0),totals"
   ]
  },
  {
   "cell_type": "code",
   "execution_count": 16,
   "metadata": {},
   "outputs": [],
   "source": [
    "def Softmax_layer_backward (cost_derivative,totals,maxpool_output):\n",
    "    input_shape = maxpool_output.shape\n",
    "    for i, gradient in enumerate(cost_derivative):\n",
    "        if gradient == 0:\n",
    "            continue\n",
    "        total_exp = np.exp(totals) \n",
    "        Sum = np.sum(total_exp)\n",
    "        softmax_derivative = -total_exp[i] * total_exp / (Sum ** 2)\n",
    "        softmax_derivative[i] = total_exp[i] * (Sum - total_exp[i]) / (Sum ** 2)\n",
    "        \n",
    "        activation_derivative= maxpool_output.flatten()\n",
    "        \n",
    "        global final_weights, final_biases\n",
    "        \n",
    "        sofmax_gradients = final_weights\n",
    "        adjustment = gradient * softmax_derivative\n",
    "        \n",
    "        maxpool_output = maxpool_output.flatten()\n",
    "        \n",
    "        weight_derivative = maxpool_output[np.newaxis].T @ adjustment[np.newaxis]\n",
    "        bias_derivative = adjustment * 1\n",
    "        maxpool_derivative = final_weights @ adjustment\n",
    "        \n",
    "        \n",
    "        final_weights -= learning_rate * weight_derivative\n",
    "        final_biases -= learning_rate * bias_derivative\n",
    "        \n",
    "        return maxpool_derivative.reshape(input_shape)\n"
   ]
  },
  {
   "cell_type": "code",
   "execution_count": 17,
   "metadata": {},
   "outputs": [],
   "source": [
    "#train data \n",
    "match_list = []\n",
    "miss_list = []\n",
    "loss_list = []\n",
    "\n",
    "for epoch in range(3):\n",
    "    permutation = np.random.permutation(1000)\n",
    "    train_image = train_images[permutation]\n",
    "    train_label = train_labels[permutation]\n",
    "    match = 0\n",
    "    miss = 0\n",
    "    \n",
    "    for i, (image, label) in enumerate(zip(train_image, train_label)):\n",
    "        conv_output = Conv_layer_forward ((image/255) - 0.5)\n",
    "        maxpool_output = Maxpool_layer_forward (conv_output)\n",
    "        final_output,totals = Softmax_layer_forward (maxpool_output)\n",
    "        loss = -np.log(final_output[label])\n",
    "        loss +=loss\n",
    "        \n",
    "        #start gradient descent training \n",
    "        cost_derivative = np.zeros(10)\n",
    "        cost_derivative[label] = -1 / final_output[label]\n",
    "        \n",
    "        maxpool_derivative = Softmax_layer_backward(cost_derivative,totals,maxpool_output)\n",
    "        maxpool_resume_derivative = Maxpool_layer_backward(maxpool_derivative,conv_output)\n",
    "        Conv_layer_backward(maxpool_resume_derivative,(image/255) - 0.5)\n",
    "        if np.argmax(final_output) == label:\n",
    "            match +=1\n",
    "        else:\n",
    "            miss +=1\n",
    "            \n",
    "    match_list.append(match)\n",
    "    miss_list.append(miss)\n",
    "    loss_list.append(loss)"
   ]
  },
  {
   "cell_type": "code",
   "execution_count": 18,
   "metadata": {},
   "outputs": [
    {
     "data": {
      "text/plain": [
       "<matplotlib.legend.Legend at 0x151bc2f50>"
      ]
     },
     "execution_count": 18,
     "metadata": {},
     "output_type": "execute_result"
    },
    {
     "data": {
      "image/png": "[encoded data removed]",
      "text/plain": [
       "<Figure size 576x432 with 1 Axes>"
      ]
     },
     "metadata": {
      "needs_background": "light"
     },
     "output_type": "display_data"
    }
   ],
   "source": [
    "plt.figure(figsize=(8,6))\n",
    "plt.plot(loss_list,label='Loss')\n",
    "plt.legend()"
   ]
  },
  {
   "cell_type": "code",
   "execution_count": 19,
   "metadata": {},
   "outputs": [
    {
     "data": {
      "text/plain": [
       "<matplotlib.legend.Legend at 0x151e41790>"
      ]
     },
     "execution_count": 19,
     "metadata": {},
     "output_type": "execute_result"
    },
    {
     "data": {
      "image/png": "[encoded data removed]",
      "text/plain": [
       "<Figure size 576x432 with 1 Axes>"
      ]
     },
     "metadata": {
      "needs_background": "light"
     },
     "output_type": "display_data"
    }
   ],
   "source": [
    "plt.figure(figsize=(8,6))\n",
    "plt.plot(match_list,label='Matched')\n",
    "plt.plot(miss_list,label='Missed')\n",
    "plt.legend()"
   ]
  },
  {
   "cell_type": "code",
   "execution_count": 20,
   "metadata": {},
   "outputs": [
    {
     "name": "stdout",
     "output_type": "stream",
     "text": [
      "Matched:  4929\n",
      "Missed:  1071\n"
     ]
    }
   ],
   "source": [
    "# test data \n",
    "match = 0\n",
    "miss = 0\n",
    "for i, (image, label) in enumerate(zip(test_images, test_labels)):\n",
    "    # Standarlize image from [0, 255] to [-0.5, 0.5] \n",
    "    conv_output = Conv_layer_forward ((image/255) - 0.5)\n",
    "    maxpool_output = Maxpool_layer_forward (conv_output)\n",
    "    final_output,totals = Softmax_layer_forward (maxpool_output)\n",
    "    loss = -np.log(final_output[label])\n",
    "    loss +=loss\n",
    "    if np.argmax(final_output) == label:\n",
    "        match +=1\n",
    "    else:\n",
    "        miss +=1\n",
    "\n",
    "print(\"Matched: \",match)\n",
    "print(\"Missed: \",miss)"
   ]
  }
 ],
 "metadata": {
  "kernelspec": {
   "display_name": "Python 3",
   "language": "python",
   "name": "python3"
  },
  "language_info": {
   "codemirror_mode": {
    "name": "ipython",
    "version": 3
   },
   "file_extension": ".py",
   "mimetype": "text/x-python",
   "name": "python",
   "nbconvert_exporter": "python",
   "pygments_lexer": "ipython3",
   "version": "3.7.4"
  }
 },
 "nbformat": 4,
 "nbformat_minor": 2
}
